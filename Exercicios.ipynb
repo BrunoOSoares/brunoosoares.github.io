{
  "nbformat": 4,
  "nbformat_minor": 0,
  "metadata": {
    "colab": {
      "name": "Exercicios.ipynb",
      "provenance": [],
      "authorship_tag": "ABX9TyPR14DhtZu+7frdv0J289Su",
      "include_colab_link": true
    },
    "kernelspec": {
      "name": "python3",
      "display_name": "Python 3"
    },
    "language_info": {
      "name": "python"
    }
  },
  "cells": [
    {
      "cell_type": "markdown",
      "metadata": {
        "id": "view-in-github",
        "colab_type": "text"
      },
      "source": [
        "<a href=\"https://colab.research.google.com/github/BrunoOSoares/brunoosoares.github.io/blob/main/Exercicios.ipynb\" target=\"_parent\"><img src=\"https://colab.research.google.com/assets/colab-badge.svg\" alt=\"Open In Colab\"/></a>"
      ]
    },
    {
      "cell_type": "markdown",
      "source": [
        "Exercicio 5"
      ],
      "metadata": {
        "id": "_JhmX8Uy2mnl"
      }
    },
    {
      "cell_type": "code",
      "execution_count": null,
      "metadata": {
        "colab": {
          "base_uri": "https://localhost:8080/"
        },
        "id": "ey453OmkuiSD",
        "outputId": "13018861-0d0c-4308-8745-d6104a9741b3"
      },
      "outputs": [
        {
          "output_type": "stream",
          "name": "stdout",
          "text": [
            "Digite a primeira nota do aluno: 2\n",
            "Digite a segunda nota do aluno: 2\n",
            "Reprovado!\n"
          ]
        }
      ],
      "source": [
        "nota1 = float(input('Digite a primeira nota do aluno: '))\n",
        "nota2 = float(input('Digite a segunda nota do aluno: '))\n",
        "\n",
        "media = (nota1 + nota2) / 2\n",
        "\n",
        "if media == 10:\n",
        "  print('Aprovado com Distinção!')\n",
        "elif media >= 7:\n",
        "  print('Aprovado!')\n",
        "else:\n",
        "  print('Reprovado!')\n",
        "\n"
      ]
    },
    {
      "cell_type": "markdown",
      "source": [
        "Exercicio 6"
      ],
      "metadata": {
        "id": "hXDMov493OI9"
      }
    },
    {
      "cell_type": "code",
      "source": [
        "num1 = int(input('Digite o primeiro numero: '))\n",
        "num2 = int(input('Digite o segundo numero: '))\n",
        "num3 = int(input('Digite o terceiro numero: '))\n",
        "\n",
        "if num1 > num2 and num3:\n",
        "  print(num1)\n",
        "elif num2 > num3:\n",
        "  print(num2)\n",
        "else:\n",
        "  print(num3)\n"
      ],
      "metadata": {
        "colab": {
          "base_uri": "https://localhost:8080/"
        },
        "id": "K_r74PVN3Qcg",
        "outputId": "9982f3b2-f295-46d9-b0fb-bde07f096717"
      },
      "execution_count": null,
      "outputs": [
        {
          "output_type": "stream",
          "name": "stdout",
          "text": [
            "Digite o primeiro numero: 10\n",
            "Digite o segundo numero: 16\n",
            "Digite o terceiro numero: 99\n",
            "99\n"
          ]
        }
      ]
    },
    {
      "cell_type": "markdown",
      "source": [
        "Exercicio 7"
      ],
      "metadata": {
        "id": "eK_hDCDH51QH"
      }
    },
    {
      "cell_type": "code",
      "source": [
        "numero1 = int(input(\"Informa o primeiro numero: \"))\n",
        "numero2 = int(input(\"Informa o segundo numero: \"))\n",
        "numero3 = int(input(\"Informa o terceiro numero: \"))\n",
        "maior = int()\n",
        "menor = int()\n",
        "\n",
        "if numero1 > numero2 and numero3:\n",
        "  maior = numero1\n",
        "elif numero2 > numero3:\n",
        "  maior = numero2\n",
        "else:\n",
        "  maior = numero3\n",
        "\n",
        "if numero1 < numero2 and numero3:\n",
        "  menor = numero1\n",
        "elif numero2 and numero3:\n",
        "  menor = numero2\n",
        "else:\n",
        "  menor = numero3\n",
        "\n",
        "print('O maior numero é: ', + maior)\n",
        "print('O menor numero é: ', + menor)\n",
        "\n",
        "\n",
        "\n",
        "\n"
      ],
      "metadata": {
        "colab": {
          "base_uri": "https://localhost:8080/"
        },
        "id": "-a5qr3M353WF",
        "outputId": "7869f5aa-3796-4c8c-9cca-3a210d918ad1"
      },
      "execution_count": null,
      "outputs": [
        {
          "output_type": "stream",
          "name": "stdout",
          "text": [
            "Informa o primeiro numero: 3\n",
            "Informa o segundo numero: 8\n",
            "Informa o terceiro numero: 0\n",
            "O maior numero é:  8\n",
            "O menor numero é:  0\n"
          ]
        }
      ]
    }
  ]
}